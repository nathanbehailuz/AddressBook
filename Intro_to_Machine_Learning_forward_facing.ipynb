{
  "nbformat": 4,
  "nbformat_minor": 0,
  "metadata": {
    "colab": {
      "provenance": [],
      "gpuType": "T4",
      "include_colab_link": true
    },
    "kernelspec": {
      "name": "python3",
      "display_name": "Python 3"
    },
    "language_info": {
      "name": "python"
    }
  },
  "cells": [
    {
      "cell_type": "markdown",
      "metadata": {
        "id": "view-in-github",
        "colab_type": "text"
      },
      "source": [
        "<a href=\"https://colab.research.google.com/github/nathanbehailuz/AddressBook/blob/master/Intro_to_Machine_Learning_forward_facing.ipynb\" target=\"_parent\"><img src=\"https://colab.research.google.com/assets/colab-badge.svg\" alt=\"Open In Colab\"/></a>"
      ]
    },
    {
      "cell_type": "markdown",
      "source": [
        "I present to you a Jupyter Notebook. It's just a nice way to combine text and Python code.\n",
        "\n",
        "When you write code in a cell, you can clik the play arrow to the left or press\n",
        "SHIFT + ENTER"
      ],
      "metadata": {
        "id": "PLQTTmr8xLJS"
      }
    },
    {
      "cell_type": "code",
      "source": [
        "# do some code!\n",
        "\n",
        "\n"
      ],
      "metadata": {
        "id": "TjVlox-5xH-i"
      },
      "execution_count": null,
      "outputs": []
    },
    {
      "cell_type": "markdown",
      "source": [
        "#A PyTorch primer"
      ],
      "metadata": {
        "id": "ctq4qPZKmxDn"
      }
    },
    {
      "cell_type": "markdown",
      "source": [
        "[PyTorch](https://pytorch.org/features/) is a machine learning framework for python that in recent years have become the de-facto library for doing deep learning (i.e., neural network) tasks. It contains many features, including most famous modules, several pretained architectures, datasets, cloud support, mobile support, GPU support.\n",
        "\n",
        "PyTorch's codebase for essential operations (matrix multiplication, differentiation, etc.) is written in C++ (*fast*), and Python is used as an interface."
      ],
      "metadata": {
        "id": "BmM-C_cdnjDZ"
      }
    },
    {
      "cell_type": "code",
      "execution_count": null,
      "metadata": {
        "id": "yq8szWIMjI3G"
      },
      "outputs": [],
      "source": [
        "import torch # The most popular library for Deep Learning. Alternatives include JAX, TensorFlow (Keras)`"
      ]
    },
    {
      "cell_type": "markdown",
      "source": [
        "The most essential data structure of pytorch is the tensor. It consists of a multidimensional matrix of a single datatype.\n",
        "\n",
        "Not *necessarily* related to the tensor you can find in physics and advanced amthematics courses.  "
      ],
      "metadata": {
        "id": "7PhgaBMkp0VJ"
      }
    },
    {
      "cell_type": "code",
      "source": [
        "\n",
        "\n"
      ],
      "metadata": {
        "id": "lb2kkA_7m4uQ"
      },
      "execution_count": null,
      "outputs": []
    },
    {
      "cell_type": "code",
      "source": [
        "\n",
        "\n"
      ],
      "metadata": {
        "id": "X7PeJyJRrF2D"
      },
      "execution_count": null,
      "outputs": []
    },
    {
      "cell_type": "code",
      "source": [
        "tensor_3d = torch.tensor([\n",
        "    [[1, 2, 3, 4], [4, 5, 6, 7], [7, 8, 9, 10]],\n",
        "    [[11, 11, 31, 15], [14, 52, 16, 19], [17, 18, 19, 20]]\n",
        "])\n",
        "print(tensor_3d)"
      ],
      "metadata": {
        "id": "BQwfVrHLrXgr"
      },
      "execution_count": null,
      "outputs": []
    },
    {
      "cell_type": "markdown",
      "source": [
        "Understanding dimensions in pytorch is one of the trickiest bits in implementing deep learning algorithms. And it comes with practice."
      ],
      "metadata": {
        "id": "mIkTBSk-rr1b"
      }
    },
    {
      "cell_type": "code",
      "source": [
        "print(\"our 1d tensor had a shape of\", tensor_1d.shape)\n",
        "print(\"our 2d tensor had a shape of\", tensor_2d.shape)\n",
        "print(\"our 3d tensor had a shape of\", tensor_3d.shape)"
      ],
      "metadata": {
        "id": "HN3KhWumr35X"
      },
      "execution_count": null,
      "outputs": []
    },
    {
      "cell_type": "markdown",
      "source": [
        "3D tensors can be though out as a cubic matrix, but it is much more easier to think about them as a list of matrices!"
      ],
      "metadata": {
        "id": "aH4RR-v4sYSc"
      }
    },
    {
      "cell_type": "code",
      "source": [
        "rand_tensor = torch.randint(low=0, high=100, size=(5, 10))\n",
        "print(rand_tensor)"
      ],
      "metadata": {
        "id": "luB9pjfW4N0c"
      },
      "execution_count": null,
      "outputs": []
    },
    {
      "cell_type": "markdown",
      "source": [
        "# The problem at hand"
      ],
      "metadata": {
        "id": "BLuvxdOotL7k"
      }
    },
    {
      "cell_type": "code",
      "source": [
        "# An extension of PyTorch with datasets and other useful functions for vision tasks\n",
        "import torchvision"
      ],
      "metadata": {
        "id": "PfDaw5JztPh6"
      },
      "execution_count": null,
      "outputs": []
    },
    {
      "cell_type": "markdown",
      "source": [
        "Remember that in order to do a deep learning task, we need data! This next cell is going to download the data for us and put it two variables that we call `training_images` and `testing_images`"
      ],
      "metadata": {
        "id": "_D-F062L7qYo"
      }
    },
    {
      "cell_type": "code",
      "source": [
        "# just a technicality, dw about this lines\n",
        "transform = torchvision.transforms.ToTensor()\n",
        "\n",
        "# This line will download the dataset for the problem we will solve\n",
        "training_dataset = torchvision.datasets.FashionMNIST(root='',\n",
        "                                                     download=True,\n",
        "                                                     train=True,\n",
        "                                                     transform=transform)\n",
        "\n",
        "# Another techoncalit, dont worry about this either\n",
        "training_images = torch.stack([image.squeeze(0) for image, _ in training_dataset])\n",
        "training_labels = torch.tensor([label for _, label in training_dataset])"
      ],
      "metadata": {
        "id": "y2crv8f_jQhB"
      },
      "execution_count": null,
      "outputs": []
    },
    {
      "cell_type": "code",
      "source": [
        "# lets experiment with the two variables\n",
        "\n",
        "\n"
      ],
      "metadata": {
        "id": "YPVqfemO_R2A"
      },
      "execution_count": null,
      "outputs": []
    },
    {
      "cell_type": "code",
      "source": [
        "import matplotlib.pyplot as plt\n",
        "\n",
        "def tensor_to_image(tensor):\n",
        "  '''\n",
        "  give a tensor and display an image\n",
        "  '''\n",
        "  tensor = tensor.squeeze(0)\n",
        "  plt.imshow(tensor, cmap=\"gray\")\n",
        "  plt.show()\n"
      ],
      "metadata": {
        "id": "x1WU9pAQuX2m"
      },
      "execution_count": null,
      "outputs": []
    },
    {
      "cell_type": "code",
      "source": [
        "# lets look at some images\n",
        "\n",
        "\n",
        "\n"
      ],
      "metadata": {
        "id": "Wy-im8NtuW_f"
      },
      "execution_count": null,
      "outputs": []
    },
    {
      "cell_type": "code",
      "source": [
        "#this dictionary is useful for displaying images\n",
        "\n",
        "labels = {\n",
        "    0: \"T-shirt/top\",\n",
        "    1: \"Trouser\",\n",
        "    2: \"Pullover\",\n",
        "    3: \"Dress\",\n",
        "    4: \"Coat\",\n",
        "    5: \"Sandal\",\n",
        "    6: \"Shirt\",\n",
        "    7: \"Sneaker\",\n",
        "    8: \"Bag\",\n",
        "    9: \"Ankle boot\"\n",
        "}"
      ],
      "metadata": {
        "id": "skCBVoQMxwon"
      },
      "execution_count": null,
      "outputs": []
    },
    {
      "cell_type": "code",
      "source": [
        "# techincal cell, just for showing the image, dont worry about whats going on\n",
        "\n",
        "num_cols = 10\n",
        "num_rows = 3\n",
        "\n",
        "fig, axes = plt.subplots(num_rows, num_cols, figsize=(12, 6))\n",
        "\n",
        "for i, ax in enumerate(axes.flat):\n",
        "    tensor, label = training_dataset[i]\n",
        "    tensor = tensor.squeeze(0)\n",
        "    ax.imshow(tensor, cmap='gray')\n",
        "    ax.set_title(labels[label])\n",
        "    ax.axis('off')\n",
        "\n",
        "plt.subplots_adjust(wspace=0.1, hspace=0.2)\n",
        "plt.show()\n"
      ],
      "metadata": {
        "id": "ucCi_ERevev6"
      },
      "execution_count": null,
      "outputs": []
    },
    {
      "cell_type": "markdown",
      "source": [
        "# The task: Given an image, predict what piece of clothing is it!\n",
        "\n",
        "Try to think of an algorithm that would do this... Do you check corners? Maybe try to some connected component analysis, or how many pixels are colored? It's is not an easy task. Seems that deep learning is the way to apporach this problem.\n",
        "\n"
      ],
      "metadata": {
        "id": "uc57g8cayf1m"
      }
    },
    {
      "cell_type": "code",
      "source": [
        "#i dont know what nn stands for tbh, perhaps neural network?\n",
        "import torch.nn as nn\n",
        "\n",
        "# nn module is the basic class for all neural networks\n",
        "class NeuralNetwork(nn.Module):\n",
        "  def __init__(self):\n",
        "    super().__init__() #class the parent class constructor\n",
        "\n",
        "\n",
        "\n"
      ],
      "metadata": {
        "id": "9vpl01MlykiS"
      },
      "execution_count": null,
      "outputs": []
    },
    {
      "cell_type": "code",
      "source": [
        "#let's define our loss function\n",
        "import torch.nn.functional as cross_entropy\n",
        "\n",
        "cross_entropy"
      ],
      "metadata": {
        "id": "1ny5J8QCzjEl"
      },
      "execution_count": null,
      "outputs": []
    },
    {
      "cell_type": "markdown",
      "source": [
        "Croos entropy is a loss functino that measure how good your scores were with respect to the real category of the data."
      ],
      "metadata": {
        "id": "aqlpYKvPKOqW"
      }
    },
    {
      "cell_type": "code",
      "source": [
        "#This is a possible output of the NN\n",
        "#it was very confient that the image was a shirt\n",
        "scores = torch.tensor([[10, -5, -5, -5, -5, -5, -5, -5, -5, -5]], dtype=torch.float)\n",
        "\n",
        "#the image was a t-shirt\n",
        "real_value = torch.tensor([0])\n",
        "\n",
        "print(cross_entropy(scores, real_value))"
      ],
      "metadata": {
        "id": "cLvVEM5AFoLE"
      },
      "execution_count": null,
      "outputs": []
    },
    {
      "cell_type": "code",
      "source": [
        "#where do we get those real values?\n",
        "\n",
        "\n"
      ],
      "metadata": {
        "id": "wcoltObUGsag"
      },
      "execution_count": null,
      "outputs": []
    },
    {
      "cell_type": "code",
      "source": [
        "# lets go ahead and get a real neural network\n",
        "\n",
        "\n"
      ],
      "metadata": {
        "id": "a0O0-LyeHJwm"
      },
      "execution_count": null,
      "outputs": []
    },
    {
      "cell_type": "code",
      "source": [
        "#let's get ahead and define the optimizer\n",
        "import torch.optim as optim\n",
        "\n",
        "\n",
        "optimizer = optim.Adam(perceptron.parameters(), lr=1e-3)"
      ],
      "metadata": {
        "id": "l-wB5pLAHXF4"
      },
      "execution_count": null,
      "outputs": []
    },
    {
      "cell_type": "markdown",
      "source": [
        "# Time to train the neural networks\n",
        "\n",
        "It has been found out by researchers that training neural netowrks \"little by little\" is the most effective way to get good results.\n",
        "\n",
        "Instead of telling the neural network to calculate the scores for the 60000 images at once, we instead ask it to calculate the scores for a \"batch\" of images (for example, 64 images at the same time).\n",
        "\n",
        "Then we will calculate the scores for each of those 64 images, check how good the scores were (with the loss function) and then tweak the wieghts in the direction that the loss function is minimized (with the optimizer)"
      ],
      "metadata": {
        "id": "0OZz0JEBfryF"
      }
    },
    {
      "cell_type": "code",
      "source": [
        "def get_batch(images, labels, size=64):\n",
        "    '''\n",
        "    Given images and labels input, get a batch of a specific size.\n",
        "    '''\n",
        "    num_samples = len(images)\n",
        "    idxs = torch.randint(0, num_samples, size=(size,))\n",
        "    return images[idxs], labels[idxs]\n"
      ],
      "metadata": {
        "id": "61XGQyPL2NOg"
      },
      "execution_count": null,
      "outputs": []
    },
    {
      "cell_type": "code",
      "source": [
        "batch_images, batch_labels = get_batch(training_images, training_labels, 64)"
      ],
      "metadata": {
        "id": "CGwY9s3v1B-0"
      },
      "execution_count": null,
      "outputs": []
    },
    {
      "cell_type": "code",
      "source": [
        "# experiment with batch images\n",
        "\n"
      ],
      "metadata": {
        "id": "zOZOTWE0g0XY"
      },
      "execution_count": null,
      "outputs": []
    },
    {
      "cell_type": "code",
      "source": [
        "# experiment with batch labels\n",
        "\n",
        "\n"
      ],
      "metadata": {
        "id": "UQjhdjmwJ4LQ"
      },
      "execution_count": null,
      "outputs": []
    },
    {
      "cell_type": "code",
      "source": [
        "#one small problem to fix\n",
        "\n",
        "print(\"Shape of training_images before runnning the cell\", training_images.shape)\n",
        "\n",
        "training_images = training_images.flatten(start_dim=1, end_dim=2)\n",
        "\n",
        "print(\"Shape of training_images after runnning the cell\", training_images.shape)"
      ],
      "metadata": {
        "id": "1ijZVsrTyVHz"
      },
      "execution_count": null,
      "outputs": []
    },
    {
      "cell_type": "code",
      "source": [
        "# number of times we will loop through the entire dataset\n",
        "EPOCHS = 3\n",
        "\n",
        "#number of batches we will take\n",
        "ITERATIONS = 60_000//64\n",
        "\n",
        "\n",
        "\n",
        "for epoch in range(EPOCHS):\n",
        "  for iteration in range(ITERATIONS):\n",
        "    #get batch\n",
        "\n",
        "    #pass it through the Neural Network\n",
        "\n",
        "    #calculate the loss\n",
        "\n",
        "    # a technicality\n",
        "\n",
        "    #calculate the direction where our weights will be tweaked\n",
        "\n",
        "    #let the optimzer tweak the wights\n",
        "\n",
        "    #print some statistics\n",
        "    if iteration % 100 == 0:\n",
        "      print(\"Epoch:\", epoch+1, \"|| Iteration: \", iteration)\n",
        "      print(\"We have looked at \", 64 * iteration + 60_000 * epoch, \" images\")\n",
        "      print(\"Loss for the last batch \", loss.item())\n",
        "      print(\"\\n\")\n",
        "\n",
        "\n"
      ],
      "metadata": {
        "id": "ICMY07HHfpUj"
      },
      "execution_count": null,
      "outputs": []
    },
    {
      "cell_type": "markdown",
      "source": [
        "# Testing our neural networks\n",
        "\n",
        "We cannot test with the same images we have trained our neural network with!\n",
        "\n",
        "That's kind of assessing your performance in a math course with an exam that only contains homework problems."
      ],
      "metadata": {
        "id": "XtQJHDxgQ1uI"
      }
    },
    {
      "cell_type": "code",
      "source": [
        "#we need a testing dataset\n",
        "\n",
        "testing_dataset = torchvision.datasets.FashionMNIST(root='',\n",
        "                                                     download=True,\n",
        "                                                     train=False,\n",
        "                                                     transform=transform)\n",
        "\n",
        "testing_images = torch.stack([image.squeeze(0) for image, _ in testing_dataset])\n",
        "testing_labels = torch.tensor([label for _, label in testing_dataset])\n",
        "\n",
        "print(testing_images.shape)\n",
        "print(testing_labels.shape)"
      ],
      "metadata": {
        "id": "rAjgl4owkAK0"
      },
      "execution_count": null,
      "outputs": []
    },
    {
      "cell_type": "code",
      "source": [
        "num_cols = 10\n",
        "num_rows = 3\n",
        "\n",
        "fig, axes = plt.subplots(num_rows, num_cols, figsize=(12, 6))\n",
        "\n",
        "for i, ax in enumerate(axes.flat):\n",
        "    tensor, label = testing_dataset[i]\n",
        "    tensor = tensor.squeeze(0)\n",
        "    ax.imshow(tensor, cmap='gray')\n",
        "    ax.set_title(labels[label])\n",
        "    ax.axis('off')\n",
        "\n",
        "plt.subplots_adjust(wspace=0.1, hspace=0.2)\n",
        "plt.show()\n"
      ],
      "metadata": {
        "id": "HGlGM4iKSBAr"
      },
      "execution_count": null,
      "outputs": []
    },
    {
      "cell_type": "code",
      "source": [
        "# we fix the same issue of dimension 28 * 28 -> 784\n",
        "testing_images = testing_images.flatten(start_dim=1, end_dim=2)"
      ],
      "metadata": {
        "id": "4lLpGzKjQBVy"
      },
      "execution_count": null,
      "outputs": []
    },
    {
      "cell_type": "code",
      "source": [
        "# we get the scores\n",
        "\n",
        "\n"
      ],
      "metadata": {
        "id": "2ddT1812lKfb"
      },
      "execution_count": null,
      "outputs": []
    },
    {
      "cell_type": "code",
      "source": [
        "# lets see what the predictions look like\n",
        "\n",
        "\n"
      ],
      "metadata": {
        "id": "JcYbF0M0SIHA"
      },
      "execution_count": null,
      "outputs": []
    },
    {
      "cell_type": "code",
      "source": [
        "# we get the labels\n",
        "prediction_labels = prediction_scores.argmax(dim=1)"
      ],
      "metadata": {
        "id": "okuApp3fQn3n"
      },
      "execution_count": null,
      "outputs": []
    },
    {
      "cell_type": "code",
      "source": [
        "# we get the accuracy\n",
        "\n",
        "same_bools = (prediction_labels == testing_labels).to(dtype=torch.float)\n",
        "\n",
        "print(same_bools)"
      ],
      "metadata": {
        "id": "_DkdoK7aQpnT"
      },
      "execution_count": null,
      "outputs": []
    },
    {
      "cell_type": "code",
      "source": [
        "print(same_bools.mean())"
      ],
      "metadata": {
        "id": "RxHBzYYvRyI8"
      },
      "execution_count": null,
      "outputs": []
    }
  ]
}